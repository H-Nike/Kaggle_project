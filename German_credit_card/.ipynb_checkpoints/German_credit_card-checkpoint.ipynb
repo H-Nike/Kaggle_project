{
 "cells": [
  {
   "cell_type": "code",
   "execution_count": 1,
   "metadata": {},
   "outputs": [],
   "source": [
    "import pandas as pd\n",
    "import numpy as np\n",
    "import matplotlib.pyplot as plt\n",
    "import seaborn as sns\n",
    "import squarify\n",
    "%matplotlib inline\n",
    "import matplotlib\n",
    "sns.set_style('ticks')"
   ]
  },
  {
   "cell_type": "code",
   "execution_count": 2,
   "metadata": {},
   "outputs": [],
   "source": [
    "df = pd.read_csv('german_credit_data.csv')\n",
    "df.drop('Unnamed: 0',axis=1,inplace=True)"
   ]
  },
  {
   "cell_type": "code",
   "execution_count": 3,
   "metadata": {},
   "outputs": [
    {
     "data": {
      "text/plain": [
       "Age                  0.0\n",
       "Sex                  0.0\n",
       "Job                  0.0\n",
       "Housing              0.0\n",
       "Saving accounts     18.3\n",
       "Checking account    39.4\n",
       "Credit amount        0.0\n",
       "Duration             0.0\n",
       "Purpose              0.0\n",
       "Risk                 0.0\n",
       "dtype: float64"
      ]
     },
     "execution_count": 3,
     "metadata": {},
     "output_type": "execute_result"
    }
   ],
   "source": [
    "df.shape\n",
    "# Determine the numbers of NaN value in each column by percentage\n",
    "(df.isnull().sum()/df.shape[0])*100\n",
    "# 18.3 % of rows in Saving Accounts columns has NaN values\n",
    "# 39.4% of rows in Checking account columns has NaN values"
   ]
  },
  {
   "cell_type": "code",
   "execution_count": 4,
   "metadata": {
    "scrolled": true
   },
   "outputs": [
    {
     "data": {
      "text/html": [
       "<div>\n",
       "<style scoped>\n",
       "    .dataframe tbody tr th:only-of-type {\n",
       "        vertical-align: middle;\n",
       "    }\n",
       "\n",
       "    .dataframe tbody tr th {\n",
       "        vertical-align: top;\n",
       "    }\n",
       "\n",
       "    .dataframe thead th {\n",
       "        text-align: right;\n",
       "    }\n",
       "</style>\n",
       "<table border=\"1\" class=\"dataframe\">\n",
       "  <thead>\n",
       "    <tr style=\"text-align: right;\">\n",
       "      <th></th>\n",
       "      <th>Age</th>\n",
       "      <th>Sex</th>\n",
       "      <th>Job</th>\n",
       "      <th>Housing</th>\n",
       "      <th>Saving accounts</th>\n",
       "      <th>Checking account</th>\n",
       "      <th>Credit amount</th>\n",
       "      <th>Duration</th>\n",
       "      <th>Purpose</th>\n",
       "      <th>Risk</th>\n",
       "    </tr>\n",
       "  </thead>\n",
       "  <tbody>\n",
       "    <tr>\n",
       "      <th>0</th>\n",
       "      <td>67</td>\n",
       "      <td>male</td>\n",
       "      <td>2</td>\n",
       "      <td>own</td>\n",
       "      <td>NaN</td>\n",
       "      <td>little</td>\n",
       "      <td>1169</td>\n",
       "      <td>6</td>\n",
       "      <td>radio/TV</td>\n",
       "      <td>good</td>\n",
       "    </tr>\n",
       "    <tr>\n",
       "      <th>1</th>\n",
       "      <td>22</td>\n",
       "      <td>female</td>\n",
       "      <td>2</td>\n",
       "      <td>own</td>\n",
       "      <td>little</td>\n",
       "      <td>moderate</td>\n",
       "      <td>5951</td>\n",
       "      <td>48</td>\n",
       "      <td>radio/TV</td>\n",
       "      <td>bad</td>\n",
       "    </tr>\n",
       "    <tr>\n",
       "      <th>2</th>\n",
       "      <td>49</td>\n",
       "      <td>male</td>\n",
       "      <td>1</td>\n",
       "      <td>own</td>\n",
       "      <td>little</td>\n",
       "      <td>NaN</td>\n",
       "      <td>2096</td>\n",
       "      <td>12</td>\n",
       "      <td>education</td>\n",
       "      <td>good</td>\n",
       "    </tr>\n",
       "    <tr>\n",
       "      <th>3</th>\n",
       "      <td>45</td>\n",
       "      <td>male</td>\n",
       "      <td>2</td>\n",
       "      <td>free</td>\n",
       "      <td>little</td>\n",
       "      <td>little</td>\n",
       "      <td>7882</td>\n",
       "      <td>42</td>\n",
       "      <td>furniture/equipment</td>\n",
       "      <td>good</td>\n",
       "    </tr>\n",
       "    <tr>\n",
       "      <th>4</th>\n",
       "      <td>53</td>\n",
       "      <td>male</td>\n",
       "      <td>2</td>\n",
       "      <td>free</td>\n",
       "      <td>little</td>\n",
       "      <td>little</td>\n",
       "      <td>4870</td>\n",
       "      <td>24</td>\n",
       "      <td>car</td>\n",
       "      <td>bad</td>\n",
       "    </tr>\n",
       "  </tbody>\n",
       "</table>\n",
       "</div>"
      ],
      "text/plain": [
       "   Age     Sex  Job Housing Saving accounts Checking account  Credit amount  \\\n",
       "0   67    male    2     own             NaN           little           1169   \n",
       "1   22  female    2     own          little         moderate           5951   \n",
       "2   49    male    1     own          little              NaN           2096   \n",
       "3   45    male    2    free          little           little           7882   \n",
       "4   53    male    2    free          little           little           4870   \n",
       "\n",
       "   Duration              Purpose  Risk  \n",
       "0         6             radio/TV  good  \n",
       "1        48             radio/TV   bad  \n",
       "2        12            education  good  \n",
       "3        42  furniture/equipment  good  \n",
       "4        24                  car   bad  "
      ]
     },
     "execution_count": 4,
     "metadata": {},
     "output_type": "execute_result"
    }
   ],
   "source": [
    "df.head()"
   ]
  },
  {
   "cell_type": "code",
   "execution_count": 5,
   "metadata": {},
   "outputs": [
    {
     "data": {
      "image/png": "[encoded data removed]",
      "text/plain": [
       "<Figure size 720x360 with 1 Axes>"
      ]
     },
     "metadata": {},
     "output_type": "display_data"
    }
   ],
   "source": [
    "f, ax = plt.subplots()\n",
    "ax = df.Sex.value_counts().plot(kind='barh',figsize = (10,5))\n",
    "kwarg ={'fontsize':15,'color':'black'}\n",
    "for i in ax.patches:\n",
    "    ax.text(i.get_width()+10, i.get_y()+0.25,\n",
    "           str((i.get_width()/len(df.Sex))*100)+'%',**kwarg)\n",
    "ax.invert_yaxis()  \n",
    "ax.set_yticklabels(['Male','Female'],**kwarg)\n",
    "x_axis = ax.axes.get_xaxis().set_visible(False) # turn off the x axis label\n",
    "ax.set_title('Credit Data Distribution by Gender',**kwarg)\n",
    "sns.despine(bottom=True)\n",
    "plt.show()"
   ]
  },
  {
   "cell_type": "markdown",
   "metadata": {},
   "source": [
    "The graph above shows that the number of Male in dataset surpasses the female with a ratio of 2:1"
   ]
  },
  {
   "cell_type": "code",
   "execution_count": 6,
   "metadata": {
    "scrolled": false
   },
   "outputs": [
    {
     "data": {
      "text/plain": [
       "Index(['car', 'radio/TV', 'furniture/equipment', 'business', 'education',\n",
       "       'repairs'],\n",
       "      dtype='object')"
      ]
     },
     "execution_count": 6,
     "metadata": {},
     "output_type": "execute_result"
    }
   ],
   "source": [
    "df.Purpose.value_counts().index[:6]"
   ]
  },
  {
   "cell_type": "code",
   "execution_count": 38,
   "metadata": {},
   "outputs": [
    {
     "data": {
      "image/png": "[encoded data removed]",
      "text/plain": [
       "<Figure size 1080x432 with 1 Axes>"
      ]
     },
     "metadata": {},
     "output_type": "display_data"
    }
   ],
   "source": [
    "count = df.Purpose.value_counts().values[:6]\n",
    "label = df.Purpose.value_counts().index[:6]\n",
    "#color= ['darkred','tan','c','lightcoral','skyblue','w','silver','silver']\n",
    "norm = matplotlib.colors.Normalize(vmin=min(count), vmax=max(count))\n",
    "colors = [matplotlib.cm.Blues(norm(value)) for value in count]\n",
    "#Plot the Treemap\n",
    "f, ax = plt.subplots(figsize=(15,6))\n",
    "ax = squarify.plot(sizes = count,label=label,color=colors,alpha=0.7,value=count)\n",
    "\n",
    "plt.axis('off')\n",
    "ax.set_title('Purpose of Having Credit Card',color='black',weight='bold', size=15)\n",
    "plt.show()"
   ]
  },
  {
   "cell_type": "markdown",
   "metadata": {},
   "source": [
    "#### Categozising the Age distribution by Age Generation"
   ]
  },
  {
   "cell_type": "code",
   "execution_count": 9,
   "metadata": {},
   "outputs": [],
   "source": [
    "range_list = (18,35,45,65,80)\n",
    "cat = ['Millennials','Gen_X','Baby_Boomer','Silent_Gen']\n",
    "df['Age_Gen'] = pd.cut(df.Age,range_list,labels=cat)"
   ]
  },
  {
   "cell_type": "code",
   "execution_count": 10,
   "metadata": {
    "scrolled": true
   },
   "outputs": [
    {
     "data": {
      "text/html": [
       "<div>\n",
       "<style scoped>\n",
       "    .dataframe tbody tr th:only-of-type {\n",
       "        vertical-align: middle;\n",
       "    }\n",
       "\n",
       "    .dataframe tbody tr th {\n",
       "        vertical-align: top;\n",
       "    }\n",
       "\n",
       "    .dataframe thead th {\n",
       "        text-align: right;\n",
       "    }\n",
       "</style>\n",
       "<table border=\"1\" class=\"dataframe\">\n",
       "  <thead>\n",
       "    <tr style=\"text-align: right;\">\n",
       "      <th></th>\n",
       "      <th>Age</th>\n",
       "      <th>Sex</th>\n",
       "      <th>Job</th>\n",
       "      <th>Housing</th>\n",
       "      <th>Saving accounts</th>\n",
       "      <th>Checking account</th>\n",
       "      <th>Credit amount</th>\n",
       "      <th>Duration</th>\n",
       "      <th>Purpose</th>\n",
       "      <th>Risk</th>\n",
       "      <th>Age_Gen</th>\n",
       "    </tr>\n",
       "  </thead>\n",
       "  <tbody>\n",
       "    <tr>\n",
       "      <th>0</th>\n",
       "      <td>67</td>\n",
       "      <td>male</td>\n",
       "      <td>2</td>\n",
       "      <td>own</td>\n",
       "      <td>NaN</td>\n",
       "      <td>little</td>\n",
       "      <td>1169</td>\n",
       "      <td>6</td>\n",
       "      <td>radio/TV</td>\n",
       "      <td>good</td>\n",
       "      <td>Silent_Gen</td>\n",
       "    </tr>\n",
       "    <tr>\n",
       "      <th>1</th>\n",
       "      <td>22</td>\n",
       "      <td>female</td>\n",
       "      <td>2</td>\n",
       "      <td>own</td>\n",
       "      <td>little</td>\n",
       "      <td>moderate</td>\n",
       "      <td>5951</td>\n",
       "      <td>48</td>\n",
       "      <td>radio/TV</td>\n",
       "      <td>bad</td>\n",
       "      <td>Millennials</td>\n",
       "    </tr>\n",
       "    <tr>\n",
       "      <th>2</th>\n",
       "      <td>49</td>\n",
       "      <td>male</td>\n",
       "      <td>1</td>\n",
       "      <td>own</td>\n",
       "      <td>little</td>\n",
       "      <td>NaN</td>\n",
       "      <td>2096</td>\n",
       "      <td>12</td>\n",
       "      <td>education</td>\n",
       "      <td>good</td>\n",
       "      <td>Baby_Boomer</td>\n",
       "    </tr>\n",
       "    <tr>\n",
       "      <th>3</th>\n",
       "      <td>45</td>\n",
       "      <td>male</td>\n",
       "      <td>2</td>\n",
       "      <td>free</td>\n",
       "      <td>little</td>\n",
       "      <td>little</td>\n",
       "      <td>7882</td>\n",
       "      <td>42</td>\n",
       "      <td>furniture/equipment</td>\n",
       "      <td>good</td>\n",
       "      <td>Gen_X</td>\n",
       "    </tr>\n",
       "    <tr>\n",
       "      <th>4</th>\n",
       "      <td>53</td>\n",
       "      <td>male</td>\n",
       "      <td>2</td>\n",
       "      <td>free</td>\n",
       "      <td>little</td>\n",
       "      <td>little</td>\n",
       "      <td>4870</td>\n",
       "      <td>24</td>\n",
       "      <td>car</td>\n",
       "      <td>bad</td>\n",
       "      <td>Baby_Boomer</td>\n",
       "    </tr>\n",
       "  </tbody>\n",
       "</table>\n",
       "</div>"
      ],
      "text/plain": [
       "   Age     Sex  Job Housing Saving accounts Checking account  Credit amount  \\\n",
       "0   67    male    2     own             NaN           little           1169   \n",
       "1   22  female    2     own          little         moderate           5951   \n",
       "2   49    male    1     own          little              NaN           2096   \n",
       "3   45    male    2    free          little           little           7882   \n",
       "4   53    male    2    free          little           little           4870   \n",
       "\n",
       "   Duration              Purpose  Risk      Age_Gen  \n",
       "0         6             radio/TV  good   Silent_Gen  \n",
       "1        48             radio/TV   bad  Millennials  \n",
       "2        12            education  good  Baby_Boomer  \n",
       "3        42  furniture/equipment  good        Gen_X  \n",
       "4        24                  car   bad  Baby_Boomer  "
      ]
     },
     "execution_count": 10,
     "metadata": {},
     "output_type": "execute_result"
    }
   ],
   "source": [
    "df.head()"
   ]
  },
  {
   "cell_type": "code",
   "execution_count": 11,
   "metadata": {},
   "outputs": [],
   "source": [
    "#Divide the dataset by Gender\n",
    "male_data = df[df.Sex == 'male']\n",
    "female_data=df[df.Sex =='female']"
   ]
  },
  {
   "cell_type": "code",
   "execution_count": 12,
   "metadata": {},
   "outputs": [
    {
     "data": {
      "image/png": "[encoded data removed]",
      "text/plain": [
       "<Figure size 1080x360 with 2 Axes>"
      ]
     },
     "metadata": {},
     "output_type": "display_data"
    }
   ],
   "source": [
    "f, (ax1,ax2) = plt.subplots(1,2,figsize=(15,5))\n",
    "sns.barplot(female_data.Housing.value_counts().index,female_data.Housing.value_counts().values,alpha=.8, \n",
    "        ec='black',color='#ff7f0e',ax=ax2)\n",
    "sns.barplot(male_data.Housing.value_counts().index,male_data.Housing.value_counts().values,\n",
    "        ec='black', color='#1f77b4',ax=ax1)\n",
    "fsum = female_data.Housing.value_counts().values.sum()\n",
    "msum = male_data.Housing.value_counts().values.sum()\n",
    "kwargs= {'fontsize':13, 'color':'black'}\n",
    "axes = [ax1,ax2]\n",
    "total = [msum,fsum]\n",
    "for j in range(len(axes)):\n",
    "    for i in axes[j].patches:\n",
    "        axes[j].text(i.get_x()+0.2, i.get_height()+10, str(round(((i.get_height())/total[j])*100,1))+'%', **kwarg)\n",
    "    \n",
    "    axes[j].set_xlabel('Housing',**kwargs)\n",
    "    axes[j].tick_params(length=3, width=1, colors='black',labelsize='x-large')\n",
    "    y_axis = axes[j].axes.get_yaxis().set_visible(False) # turn off the y axis label\n",
    "    text = ['Male','Female']\n",
    "    axes[j].set_title(text[j]+' Housing Distribution',color='black',weight='bold', size=15)\n",
    "    sns.despine(left=True)\n",
    "plt.show()"
   ]
  },
  {
   "cell_type": "markdown",
   "metadata": {},
   "source": [
    "### Age Distribution using density plot"
   ]
  },
  {
   "cell_type": "code",
   "execution_count": 13,
   "metadata": {},
   "outputs": [
    {
     "data": {
      "image/png": "[encoded data removed]",
      "text/plain": [
       "<Figure size 720x360 with 1 Axes>"
      ]
     },
     "metadata": {},
     "output_type": "display_data"
    }
   ],
   "source": [
    "f, ax = plt.subplots(figsize = (10,5))\n",
    "ax = sns.kdeplot(male_data.Age,shade=True)\n",
    "ax = sns.kdeplot(female_data.Age,shade=True)\n",
    "ax.legend(['Male','Female'],fontsize=12)\n",
    "ax.set_xlabel('Age',fontsize=14,color='black')\n",
    "\n",
    "ax.set_title('Age Distribution',color='black',fontsize=14)\n",
    "y_axis = ax.axes.get_yaxis().set_visible(False) # turn off the y axis label\n",
    "sns.despine(left=True)"
   ]
  },
  {
   "cell_type": "markdown",
   "metadata": {},
   "source": [
    "The graph above shows that the female coustomer tend to be younger than the male. This graph also shows that for both male and female, the majority of the customers are Millennials (less than 35 years old)"
   ]
  },
  {
   "cell_type": "markdown",
   "metadata": {},
   "source": [
    "### Distribution of credit card based on Skillset"
   ]
  },
  {
   "cell_type": "code",
   "execution_count": 14,
   "metadata": {
    "scrolled": true
   },
   "outputs": [
    {
     "data": {
      "text/html": [
       "<div>\n",
       "<style scoped>\n",
       "    .dataframe tbody tr th:only-of-type {\n",
       "        vertical-align: middle;\n",
       "    }\n",
       "\n",
       "    .dataframe tbody tr th {\n",
       "        vertical-align: top;\n",
       "    }\n",
       "\n",
       "    .dataframe thead th {\n",
       "        text-align: right;\n",
       "    }\n",
       "</style>\n",
       "<table border=\"1\" class=\"dataframe\">\n",
       "  <thead>\n",
       "    <tr style=\"text-align: right;\">\n",
       "      <th></th>\n",
       "      <th>Job</th>\n",
       "      <th>female_pct</th>\n",
       "      <th>male_pct</th>\n",
       "    </tr>\n",
       "  </thead>\n",
       "  <tbody>\n",
       "    <tr>\n",
       "      <th>0</th>\n",
       "      <td>Skilled</td>\n",
       "      <td>63.5</td>\n",
       "      <td>62.8</td>\n",
       "    </tr>\n",
       "    <tr>\n",
       "      <th>1</th>\n",
       "      <td>Unskilled &amp; Resident</td>\n",
       "      <td>20.6</td>\n",
       "      <td>19.7</td>\n",
       "    </tr>\n",
       "    <tr>\n",
       "      <th>2</th>\n",
       "      <td>Highly Skilled</td>\n",
       "      <td>11.9</td>\n",
       "      <td>16.1</td>\n",
       "    </tr>\n",
       "    <tr>\n",
       "      <th>3</th>\n",
       "      <td>Unskilled &amp; Non Resident</td>\n",
       "      <td>3.9</td>\n",
       "      <td>1.4</td>\n",
       "    </tr>\n",
       "  </tbody>\n",
       "</table>\n",
       "</div>"
      ],
      "text/plain": [
       "                        Job  female_pct  male_pct\n",
       "0                   Skilled        63.5      62.8\n",
       "1      Unskilled & Resident        20.6      19.7\n",
       "2            Highly Skilled        11.9      16.1\n",
       "3  Unskilled & Non Resident         3.9       1.4"
      ]
     },
     "execution_count": 14,
     "metadata": {},
     "output_type": "execute_result"
    }
   ],
   "source": [
    "# DataFrame by Job percentage\n",
    "female_job_pct = pd.DataFrame(round(female_data.Job.value_counts()/len(female_data.Job)*100,1)).reset_index()\n",
    "female_job_pct.columns = ['Job','female_pct']\n",
    "# Male DataFrame for the Job percentage\n",
    "male_job_pct = pd.DataFrame(round(male_data.Job.value_counts()/len(male_data.Job)*100,1)).reset_index()\n",
    "male_job_pct.columns = ['Job','male_pct']\n",
    "# Joining the DataFrame together\n",
    "job_pct = pd.merge(female_job_pct,male_job_pct,how='left')\n",
    "job_pct.Job = job_pct['Job'].map({0:'Unskilled & Non Resident',1:'Unskilled & Resident',2:'Skilled',3:'Highly Skilled'})\n",
    "job_pct"
   ]
  },
  {
   "cell_type": "markdown",
   "metadata": {},
   "source": [
    "#### The graph below show that the female customer are highly skilled than men by over 2:1 ratio and they are almost equal to men in other skill set category"
   ]
  },
  {
   "cell_type": "code",
   "execution_count": 15,
   "metadata": {},
   "outputs": [
    {
     "data": {
      "image/png": "[encoded data removed]",
      "text/plain": [
       "<Figure size 1080x360 with 1 Axes>"
      ]
     },
     "metadata": {},
     "output_type": "display_data"
    }
   ],
   "source": [
    "ax = job_pct[['male_pct','female_pct']].plot(kind='bar',figsize=(15,5),fontsize=13,width=0.6)\n",
    "ax.set_xticklabels(job_pct.Job.tolist(),rotation=0)\n",
    "ax.set_title('Percentage Distribution of Skillset per Gender',fontsize=18,color='black')\n",
    "for i in ax.patches:\n",
    "    ax.text(i.get_x()+0.05, i.get_height()+0.8, str((i.get_height()))+'%', fontsize=13)\n",
    "y_axis = ax.axes.get_yaxis().set_visible(False) # turn off the y axis label\n",
    "plt.legend(loc=('upper right'),fontsize=13,title ='Gender Class',ncol=2)\n",
    "sns.despine(left=True)"
   ]
  },
  {
   "cell_type": "markdown",
   "metadata": {},
   "source": [
    "The graph Below shows that the eventhough the number of male customers is higher than the female, the reason of having a credit card based on skillset is normaly distributed"
   ]
  },
  {
   "cell_type": "markdown",
   "metadata": {},
   "source": [
    "## Skilled EDA"
   ]
  },
  {
   "cell_type": "code",
   "execution_count": 16,
   "metadata": {
    "code_folding": [
     0
    ]
   },
   "outputs": [],
   "source": [
    "def skill_plot(data_in,input):\n",
    "    x = data_in[data_in.Job.isin([2,3])]\n",
    "    x2 = x.groupby(['Job','Purpose']).size().sort_values(ascending=False).reset_index()\n",
    "    x2.columns = ['Job','Purpose','count']\n",
    "    x2.Job=x2.Job.map({2:'Skilled',3:'Highly Skilled'})\n",
    "\n",
    "    f, (ax1,ax2) =plt.subplots(1,2,figsize=(14,5))\n",
    "    color1=['grey','grey','grey','orange','orange','grey','grey','grey']\n",
    "    color2=['grey','grey','grey','orange','grey','orange']\n",
    "    sns.barplot(x='count',y= 'Purpose',data=x2[x2.Job == 'Skilled'],palette=color1,alpha=0.7,\n",
    "                    edgecolor=\"black\",ax=ax1)\n",
    "    sns.barplot(x='count',y= 'Purpose',data=x2[x2.Job == 'Highly Skilled'],palette=color2,alpha=0.7,\n",
    "                    edgecolor=\"black\",ax=ax2)\n",
    "    axes = [ax1,ax2]\n",
    "    for j in range(len(axes)):\n",
    "        for i in axes[j].patches:\n",
    "            axes[j].text(i.get_width()+.2, i.get_y()+.55, str(round((i.get_width()), 2)), fontsize=12, color='black')\n",
    "         \n",
    "        text = ['Skilled ','Highly Skilled ']\n",
    "        axes[j].set_title( text[j] + input +': Credit Card Purpose',fontsize=15,color='black')\n",
    "        axes[j].tick_params(length=3, width=1, colors='black',labelsize='large')\n",
    "        x_axis = axes[j].axes.get_xaxis().set_visible(False) # turn off the y axis label\n",
    "        f.subplots_adjust(wspace=0.27,right=1,hspace=0.8)\n",
    "        sns.despine(bottom=True)\n",
    "    return plt.show()"
   ]
  },
  {
   "cell_type": "code",
   "execution_count": 17,
   "metadata": {},
   "outputs": [
    {
     "data": {
      "image/png": "[encoded data removed]",
      "text/plain": [
       "<Figure size 1008x360 with 2 Axes>"
      ]
     },
     "metadata": {},
     "output_type": "display_data"
    },
    {
     "data": {
      "image/png": "[encoded data removed]",
      "text/plain": [
       "<Figure size 1008x360 with 2 Axes>"
      ]
     },
     "metadata": {},
     "output_type": "display_data"
    }
   ],
   "source": [
    "skill_plot(male_data,'Male')\n",
    "skill_plot(female_data,'Female')"
   ]
  },
  {
   "cell_type": "markdown",
   "metadata": {},
   "source": [
    "Female tend to prioritize Education over Business, which is opposite for the men who significantly priotize Business over Education in both High skilled and Skilled category"
   ]
  },
  {
   "cell_type": "code",
   "execution_count": 18,
   "metadata": {
    "scrolled": true
   },
   "outputs": [
    {
     "data": {
      "image/png": "[encoded data removed]",
      "text/plain": [
       "<Figure size 720x360 with 1 Axes>"
      ]
     },
     "metadata": {},
     "output_type": "display_data"
    }
   ],
   "source": [
    "f, ax = plt.subplots(figsize = (10,5))\n",
    "ax = sns.kdeplot(male_data[male_data.Job==3]['Credit amount'],shade=True)\n",
    "ax = sns.kdeplot(female_data[female_data.Job==3]['Credit amount'],shade=True)\n",
    "ax.legend(['Male','Female'],fontsize=12)\n",
    "ax.set_xlabel('Credit Amount',fontsize=14,color='black')\n",
    "ax.set_title('Credit Amount Distribution',color='black',fontsize=14)\n",
    "y_axis = ax.axes.get_yaxis().set_visible(False) # turn off the y axis label\n",
    "sns.despine(left=True)"
   ]
  },
  {
   "cell_type": "markdown",
   "metadata": {},
   "source": [
    "## Female & Male Risk Evaluation"
   ]
  },
  {
   "cell_type": "code",
   "execution_count": 19,
   "metadata": {
    "code_folding": [
     0
    ],
    "scrolled": true
   },
   "outputs": [],
   "source": [
    "def risk_plot (data_in,input):\n",
    "    d1 = data_in.groupby(['Risk','Job']).size().reset_index()\n",
    "    d1.columns = ['Risk','Job','count']\n",
    "    d1.Job=d1.Job.map({0:'Unskilled & Non Resident',1:'Unskilled & Resident',2:'Skilled',3:'Highly Skilled'})\n",
    "\n",
    "    f, ax=plt.subplots(figsize=(14,5))\n",
    "    ax = sns.barplot(x='Job',y= 'count',data=d1,hue='Risk',palette=['darkred', 'darkgreen'],alpha=0.7,\n",
    "                    edgecolor=\"black\")\n",
    "    ax.set_title(input + ' : Risk Distribution per Skillset',fontsize=15,color='black')\n",
    "    ax.tick_params(length=3, width=1, colors='black',labelsize='x-large')\n",
    "    ax.set_xlabel('Job',fontsize=13,color='black')\n",
    "    for i in ax.patches:\n",
    "        ax.text(i.get_x()+0.1, i.get_height()+2.2, str((i.get_height())), fontsize=13,color='black')\n",
    "    y_axis = ax.axes.get_yaxis().set_visible(False) # turn off the y axis label\n",
    "    plt.legend(loc=(0.8,0.8),fontsize=13,title = input+' Risk Class',ncol=2)\n",
    "    sns.despine(left=True)\n",
    "    return plt.show()"
   ]
  },
  {
   "cell_type": "code",
   "execution_count": 20,
   "metadata": {},
   "outputs": [
    {
     "data": {
      "image/png": "[encoded data removed]",
      "text/plain": [
       "<Figure size 1008x360 with 1 Axes>"
      ]
     },
     "metadata": {},
     "output_type": "display_data"
    },
    {
     "data": {
      "image/png": "[encoded data removed]",
      "text/plain": [
       "<Figure size 1008x360 with 1 Axes>"
      ]
     },
     "metadata": {},
     "output_type": "display_data"
    }
   ],
   "source": [
    "risk_plot(female_data,'Female')\n",
    "risk_plot(male_data,'Male')"
   ]
  },
  {
   "cell_type": "markdown",
   "metadata": {},
   "source": [
    "## Male Risk Evaluation"
   ]
  },
  {
   "cell_type": "markdown",
   "metadata": {},
   "source": [
    "### Create a new Column that convert Duration from months to Years (category type)  "
   ]
  },
  {
   "cell_type": "code",
   "execution_count": 22,
   "metadata": {},
   "outputs": [],
   "source": [
    "range_list = (1,12,24,36,48,60,72)\n",
    "cat = ['One','Two','Three','Four','Five','Six']\n",
    "df['Duration_yrs']= pd.cut(df.Duration,range_list,labels=cat)"
   ]
  },
  {
   "cell_type": "code",
   "execution_count": 23,
   "metadata": {},
   "outputs": [],
   "source": [
    "#Create a dataframe of only Sex, Duration_yrs and risk\n",
    "df_duration_yrs = df.groupby(['Sex','Duration_yrs','Risk']).size().reset_index()\n",
    "df_duration_yrs.columns = ['Sex','Duration_yrs','Risk','count']\n",
    "# Split the New dataset df_duration_yrs by Gender\n",
    "ms = df_duration_yrs[df_duration_yrs['Sex']=='male']\n",
    "fs = df_duration_yrs[df_duration_yrs['Sex']=='female']"
   ]
  },
  {
   "cell_type": "code",
   "execution_count": 24,
   "metadata": {},
   "outputs": [],
   "source": [
    "#Male dataframe for risk distribution\n",
    "dd = pd.DataFrame(ms[ms['Risk']=='bad']['Duration_yrs'].values.tolist())\n",
    "dd['bad']= ms[ms['Risk']=='bad']['count'].values.tolist()\n",
    "xc = ms[ms['Risk']=='good']['count'].values.tolist()\n",
    "# Added 0 to the list so the list will have same lenght with dd\n",
    "xc.append(0)\n",
    "dd['good'] = xc\n",
    "dd.columns = ['Duration_yrs', 'bad','good']\n",
    "dd_f = pd.DataFrame(fs[fs['Risk']=='bad']['Duration_yrs'].values.tolist())\n",
    "dd_f['bad']= fs[fs['Risk']=='bad']['count'].values.tolist()\n",
    "dd_f['good']= fs[fs['Risk']=='good']['count'].values.tolist()\n",
    "dd_f.columns = ['Duration_yrs', 'bad','good']"
   ]
  },
  {
   "cell_type": "code",
   "execution_count": 25,
   "metadata": {},
   "outputs": [
    {
     "data": {
      "image/png": "[encoded data removed]",
      "text/plain": [
       "<Figure size 1080x360 with 1 Axes>"
      ]
     },
     "metadata": {},
     "output_type": "display_data"
    }
   ],
   "source": [
    "ax = dd[['bad','good']].plot(kind='bar',figsize=(15,5),fontsize=13,color=['darkred', 'darkgreen'],alpha=0.7,\n",
    "                             ec='black',width=0.75)\n",
    "ax.set_xticklabels(dd.Duration_yrs.tolist(),rotation=0)\n",
    "for i in ax.patches:\n",
    "    ax.text(i.get_x()+0.12, i.get_height()+1.2, str((i.get_height())), fontsize=13)\n",
    "kwarg = {'fontsize': 15, 'color':'black'}\n",
    "ax.set_ylabel('Count',**kwarg)\n",
    "ax.set_xlabel('Duration in Years',**kwarg)\n",
    "ax.set_title('Male: Risk Distribution per Duration',**kwarg)\n",
    "plt.legend(loc=('upper right'),fontsize=13,title ='Credit Score',ncol=2)\n",
    "sns.despine(left=False)"
   ]
  },
  {
   "cell_type": "code",
   "execution_count": 26,
   "metadata": {},
   "outputs": [
    {
     "data": {
      "image/png": "[encoded data removed]",
      "text/plain": [
       "<Figure size 1080x360 with 1 Axes>"
      ]
     },
     "metadata": {},
     "output_type": "display_data"
    }
   ],
   "source": [
    "ax = dd_f[['bad','good']].plot(kind='bar',figsize=(15,5),fontsize=13,color=['darkred', 'darkgreen'],alpha=0.7,\n",
    "                               ec='black',width=0.75)\n",
    "ax.set_xticklabels(dd.Duration_yrs.tolist(),rotation=0)\n",
    "for i in ax.patches:\n",
    "    ax.text(i.get_x()+0.15, i.get_height()+1.2, str((i.get_height())), fontsize=13)\n",
    "#y_axis = ax.axes.get_yaxis().set_visible(False) # turn off the y axis label\n",
    "kwarg = {'fontsize': 15, 'color':'black'}\n",
    "ax.set_ylabel('Count',**kwarg)\n",
    "ax.set_xlabel('Duration in Years',**kwarg)\n",
    "ax.set_title('Female: Risk Distribution per Duration',**kwarg)\n",
    "plt.legend(loc=('upper right'),fontsize=13,title ='Credit Score',ncol=2)\n",
    "sns.despine(left=False)"
   ]
  },
  {
   "cell_type": "code",
   "execution_count": null,
   "metadata": {},
   "outputs": [],
   "source": []
  },
  {
   "cell_type": "code",
   "execution_count": null,
   "metadata": {},
   "outputs": [],
   "source": []
  },
  {
   "cell_type": "code",
   "execution_count": 27,
   "metadata": {},
   "outputs": [
    {
     "data": {
      "text/html": [
       "<script>requirejs.config({paths: { 'plotly': ['https://cdn.plot.ly/plotly-latest.min']},});if(!window.Plotly) {{require(['plotly'],function(plotly) {window.Plotly=plotly;});}}</script>"
      ],
      "text/vnd.plotly.v1+html": [
       "<script>requirejs.config({paths: { 'plotly': ['https://cdn.plot.ly/plotly-latest.min']},});if(!window.Plotly) {{require(['plotly'],function(plotly) {window.Plotly=plotly;});}}</script>"
      ]
     },
     "metadata": {},
     "output_type": "display_data"
    }
   ],
   "source": [
    "import plotly.offline as py\n",
    "py.init_notebook_mode(connected=True)\n",
    "import plotly.graph_objs as go\n",
    "import plotly.tools as tls\n",
    "import warnings"
   ]
  },
  {
   "cell_type": "code",
   "execution_count": 28,
   "metadata": {
    "scrolled": true
   },
   "outputs": [
    {
     "data": {
      "text/html": [
       "<div>\n",
       "<style scoped>\n",
       "    .dataframe tbody tr th:only-of-type {\n",
       "        vertical-align: middle;\n",
       "    }\n",
       "\n",
       "    .dataframe tbody tr th {\n",
       "        vertical-align: top;\n",
       "    }\n",
       "\n",
       "    .dataframe thead th {\n",
       "        text-align: right;\n",
       "    }\n",
       "</style>\n",
       "<table border=\"1\" class=\"dataframe\">\n",
       "  <thead>\n",
       "    <tr style=\"text-align: right;\">\n",
       "      <th></th>\n",
       "      <th>Sex</th>\n",
       "      <th>Duration_yrs</th>\n",
       "      <th>Risk</th>\n",
       "      <th>count</th>\n",
       "    </tr>\n",
       "  </thead>\n",
       "  <tbody>\n",
       "    <tr>\n",
       "      <th>10</th>\n",
       "      <td>male</td>\n",
       "      <td>One</td>\n",
       "      <td>bad</td>\n",
       "      <td>45</td>\n",
       "    </tr>\n",
       "    <tr>\n",
       "      <th>12</th>\n",
       "      <td>male</td>\n",
       "      <td>Two</td>\n",
       "      <td>bad</td>\n",
       "      <td>74</td>\n",
       "    </tr>\n",
       "    <tr>\n",
       "      <th>14</th>\n",
       "      <td>male</td>\n",
       "      <td>Three</td>\n",
       "      <td>bad</td>\n",
       "      <td>40</td>\n",
       "    </tr>\n",
       "    <tr>\n",
       "      <th>16</th>\n",
       "      <td>male</td>\n",
       "      <td>Four</td>\n",
       "      <td>bad</td>\n",
       "      <td>26</td>\n",
       "    </tr>\n",
       "    <tr>\n",
       "      <th>18</th>\n",
       "      <td>male</td>\n",
       "      <td>Five</td>\n",
       "      <td>bad</td>\n",
       "      <td>5</td>\n",
       "    </tr>\n",
       "    <tr>\n",
       "      <th>20</th>\n",
       "      <td>male</td>\n",
       "      <td>Six</td>\n",
       "      <td>bad</td>\n",
       "      <td>1</td>\n",
       "    </tr>\n",
       "  </tbody>\n",
       "</table>\n",
       "</div>"
      ],
      "text/plain": [
       "     Sex Duration_yrs Risk  count\n",
       "10  male          One  bad     45\n",
       "12  male          Two  bad     74\n",
       "14  male        Three  bad     40\n",
       "16  male         Four  bad     26\n",
       "18  male         Five  bad      5\n",
       "20  male          Six  bad      1"
      ]
     },
     "execution_count": 28,
     "metadata": {},
     "output_type": "execute_result"
    }
   ],
   "source": [
    "ms[ms['Risk']=='bad']['count'].values\n",
    "ms[ms['Risk']=='bad']['Duration_yrs'].values\n",
    "ms[ms['Risk']=='bad']"
   ]
  },
  {
   "cell_type": "code",
   "execution_count": 29,
   "metadata": {},
   "outputs": [
    {
     "data": {
      "application/vnd.plotly.v1+json": {
       "data": [
        {
         "marker": {
          "color": "rgb(139,0,0)"
         },
         "name": "Bad Risk",
         "opacity": 0.8,
         "type": "bar",
         "x": [
          "One",
          "Two",
          "Three",
          "Four",
          "Five",
          "Six"
         ],
         "y": [
          45,
          74,
          40,
          26,
          5,
          1
         ]
        },
        {
         "marker": {
          "color": "rgb(0,100,0)"
         },
         "name": "Good Risk",
         "opacity": 0.8,
         "type": "bar",
         "x": [
          "One",
          "Two",
          "Three",
          "Four",
          "Five"
         ],
         "y": [
          196,
          200,
          67,
          29,
          7
         ]
        }
       ],
       "layout": {
        "title": "Male: Risk Distribution per Duration",
        "xaxis": {
         "title": "Duration in Years"
        },
        "yaxis": {
         "title": "Frequency"
        }
       }
      },
      "text/html": [
       "<div id=\"23b9a7d1-c370-4a3d-864c-13a2de8f7aa3\" style=\"height: 525px; width: 100%;\" class=\"plotly-graph-div\"></div><script type=\"text/javascript\">require([\"plotly\"], function(Plotly) { window.PLOTLYENV=window.PLOTLYENV || {};window.PLOTLYENV.BASE_URL=\"https://plot.ly\";Plotly.newPlot(\"23b9a7d1-c370-4a3d-864c-13a2de8f7aa3\", [{\"type\": \"bar\", \"x\": [\"One\", \"Two\", \"Three\", \"Four\", \"Five\", \"Six\"], \"y\": [45, 74, 40, 26, 5, 1], \"marker\": {\"color\": \"rgb(139,0,0)\"}, \"opacity\": 0.8, \"name\": \"Bad Risk\"}, {\"type\": \"bar\", \"x\": [\"One\", \"Two\", \"Three\", \"Four\", \"Five\"], \"y\": [196, 200, 67, 29, 7], \"marker\": {\"color\": \"rgb(0,100,0)\"}, \"opacity\": 0.8, \"name\": \"Good Risk\"}], {\"yaxis\": {\"title\": \"Frequency\"}, \"xaxis\": {\"title\": \"Duration in Years\"}, \"title\": \"Male: Risk Distribution per Duration\"}, {\"showLink\": true, \"linkText\": \"Export to plot.ly\"})});</script>"
      ],
      "text/vnd.plotly.v1+html": [
       "<div id=\"23b9a7d1-c370-4a3d-864c-13a2de8f7aa3\" style=\"height: 525px; width: 100%;\" class=\"plotly-graph-div\"></div><script type=\"text/javascript\">require([\"plotly\"], function(Plotly) { window.PLOTLYENV=window.PLOTLYENV || {};window.PLOTLYENV.BASE_URL=\"https://plot.ly\";Plotly.newPlot(\"23b9a7d1-c370-4a3d-864c-13a2de8f7aa3\", [{\"type\": \"bar\", \"x\": [\"One\", \"Two\", \"Three\", \"Four\", \"Five\", \"Six\"], \"y\": [45, 74, 40, 26, 5, 1], \"marker\": {\"color\": \"rgb(139,0,0)\"}, \"opacity\": 0.8, \"name\": \"Bad Risk\"}, {\"type\": \"bar\", \"x\": [\"One\", \"Two\", \"Three\", \"Four\", \"Five\"], \"y\": [196, 200, 67, 29, 7], \"marker\": {\"color\": \"rgb(0,100,0)\"}, \"opacity\": 0.8, \"name\": \"Good Risk\"}], {\"yaxis\": {\"title\": \"Frequency\"}, \"xaxis\": {\"title\": \"Duration in Years\"}, \"title\": \"Male: Risk Distribution per Duration\"}, {\"showLink\": true, \"linkText\": \"Export to plot.ly\"})});</script>"
      ]
     },
     "metadata": {},
     "output_type": "display_data"
    }
   ],
   "source": [
    "trace1 = go.Bar(\n",
    "    x=ms[ms['Risk']=='bad']['Duration_yrs'].values,\n",
    "    y= ms[ms['Risk']=='bad']['count'].values,\n",
    "    marker=dict(\n",
    "    color='rgb(139,0,0)'),\n",
    "    opacity=0.8,\n",
    "    name = 'Bad Risk'\n",
    ")\n",
    "trace2 = go.Bar(\n",
    "    x=ms[ms['Risk']=='good']['Duration_yrs'].values,\n",
    "    y= ms[ms['Risk']=='good']['count'].values, \n",
    "    marker=dict(\n",
    "    color='rgb(0,100,0)'),\n",
    "    opacity=0.8,\n",
    "    name = 'Good Risk'\n",
    ")\n",
    "data = [trace1, trace2]\n",
    "\n",
    "layout = go.Layout (\n",
    "    yaxis = dict(\n",
    "    title = 'Frequency'),\n",
    "    \n",
    "    xaxis = dict (\n",
    "    title = 'Duration in Years'),\n",
    "    \n",
    "    title = 'Male: Risk Distribution per Duration'\n",
    ")\n",
    "fig = go.Figure (data=data, layout = layout)\n",
    "py.iplot(fig)"
   ]
  },
  {
   "cell_type": "code",
   "execution_count": 30,
   "metadata": {},
   "outputs": [
    {
     "data": {
      "application/vnd.plotly.v1+json": {
       "data": [
        {
         "marker": {
          "color": "rgb(139,0,0)"
         },
         "name": "Bad Risk",
         "opacity": 0.8,
         "type": "bar",
         "x": [
          "One",
          "Two",
          "Three",
          "Four",
          "Five"
         ],
         "y": [
          31,
          48,
          17,
          11,
          2
         ]
        },
        {
         "marker": {
          "color": "rgb(0,100,0)"
         },
         "name": "Good Risk",
         "opacity": 0.8,
         "type": "bar",
         "x": [
          "One",
          "Two",
          "Three",
          "Four",
          "Five"
         ],
         "y": [
          87,
          89,
          19,
          5,
          1
         ]
        }
       ],
       "layout": {
        "title": "Female: Risk Distribution per Duration",
        "xaxis": {
         "title": "Duration in Years"
        },
        "yaxis": {
         "title": "Frequency"
        }
       }
      },
      "text/html": [
       "<div id=\"50fbe893-b135-4717-8ec6-1a83235c2ed5\" style=\"height: 525px; width: 100%;\" class=\"plotly-graph-div\"></div><script type=\"text/javascript\">require([\"plotly\"], function(Plotly) { window.PLOTLYENV=window.PLOTLYENV || {};window.PLOTLYENV.BASE_URL=\"https://plot.ly\";Plotly.newPlot(\"50fbe893-b135-4717-8ec6-1a83235c2ed5\", [{\"type\": \"bar\", \"x\": [\"One\", \"Two\", \"Three\", \"Four\", \"Five\"], \"y\": [31, 48, 17, 11, 2], \"marker\": {\"color\": \"rgb(139,0,0)\"}, \"opacity\": 0.8, \"name\": \"Bad Risk\"}, {\"type\": \"bar\", \"x\": [\"One\", \"Two\", \"Three\", \"Four\", \"Five\"], \"y\": [87, 89, 19, 5, 1], \"marker\": {\"color\": \"rgb(0,100,0)\"}, \"opacity\": 0.8, \"name\": \"Good Risk\"}], {\"yaxis\": {\"title\": \"Frequency\"}, \"xaxis\": {\"title\": \"Duration in Years\"}, \"title\": \"Female: Risk Distribution per Duration\"}, {\"showLink\": true, \"linkText\": \"Export to plot.ly\"})});</script>"
      ],
      "text/vnd.plotly.v1+html": [
       "<div id=\"50fbe893-b135-4717-8ec6-1a83235c2ed5\" style=\"height: 525px; width: 100%;\" class=\"plotly-graph-div\"></div><script type=\"text/javascript\">require([\"plotly\"], function(Plotly) { window.PLOTLYENV=window.PLOTLYENV || {};window.PLOTLYENV.BASE_URL=\"https://plot.ly\";Plotly.newPlot(\"50fbe893-b135-4717-8ec6-1a83235c2ed5\", [{\"type\": \"bar\", \"x\": [\"One\", \"Two\", \"Three\", \"Four\", \"Five\"], \"y\": [31, 48, 17, 11, 2], \"marker\": {\"color\": \"rgb(139,0,0)\"}, \"opacity\": 0.8, \"name\": \"Bad Risk\"}, {\"type\": \"bar\", \"x\": [\"One\", \"Two\", \"Three\", \"Four\", \"Five\"], \"y\": [87, 89, 19, 5, 1], \"marker\": {\"color\": \"rgb(0,100,0)\"}, \"opacity\": 0.8, \"name\": \"Good Risk\"}], {\"yaxis\": {\"title\": \"Frequency\"}, \"xaxis\": {\"title\": \"Duration in Years\"}, \"title\": \"Female: Risk Distribution per Duration\"}, {\"showLink\": true, \"linkText\": \"Export to plot.ly\"})});</script>"
      ]
     },
     "metadata": {},
     "output_type": "display_data"
    }
   ],
   "source": [
    "trace1 = go.Bar(\n",
    "    x=fs[fs['Risk']=='bad']['Duration_yrs'].values,\n",
    "    y= fs[fs['Risk']=='bad']['count'].values,\n",
    "    marker=dict(\n",
    "    color='rgb(139,0,0)'),\n",
    "    opacity=0.8,\n",
    "    name = 'Bad Risk'\n",
    ")\n",
    "trace2 = go.Bar(\n",
    "    x=fs[fs['Risk']=='good']['Duration_yrs'].values,\n",
    "    y= fs[fs['Risk']=='good']['count'].values, \n",
    "    marker=dict(\n",
    "    color='rgb(0,100,0)'),\n",
    "    opacity=0.8,\n",
    "    name = 'Good Risk'\n",
    ")\n",
    "data = [trace1, trace2]\n",
    "\n",
    "layout = go.Layout (\n",
    "    yaxis = dict(\n",
    "    title = 'Frequency'),\n",
    "    \n",
    "    xaxis = dict (\n",
    "    title = 'Duration in Years'),\n",
    "    \n",
    "    title = 'Female: Risk Distribution per Duration'\n",
    ")\n",
    "fig = go.Figure (data=data, layout = layout)\n",
    "py.iplot(fig)"
   ]
  },
  {
   "cell_type": "code",
   "execution_count": null,
   "metadata": {},
   "outputs": [],
   "source": []
  },
  {
   "cell_type": "code",
   "execution_count": 31,
   "metadata": {},
   "outputs": [
    {
     "data": {
      "text/html": [
       "<div>\n",
       "<style scoped>\n",
       "    .dataframe tbody tr th:only-of-type {\n",
       "        vertical-align: middle;\n",
       "    }\n",
       "\n",
       "    .dataframe tbody tr th {\n",
       "        vertical-align: top;\n",
       "    }\n",
       "\n",
       "    .dataframe thead th {\n",
       "        text-align: right;\n",
       "    }\n",
       "</style>\n",
       "<table border=\"1\" class=\"dataframe\">\n",
       "  <thead>\n",
       "    <tr style=\"text-align: right;\">\n",
       "      <th></th>\n",
       "      <th>Sex</th>\n",
       "      <th>Job</th>\n",
       "      <th>Housing</th>\n",
       "      <th>count</th>\n",
       "    </tr>\n",
       "  </thead>\n",
       "  <tbody>\n",
       "    <tr>\n",
       "      <th>0</th>\n",
       "      <td>female</td>\n",
       "      <td>Unskilled &amp; Non Resident</td>\n",
       "      <td>free</td>\n",
       "      <td>1</td>\n",
       "    </tr>\n",
       "    <tr>\n",
       "      <th>1</th>\n",
       "      <td>female</td>\n",
       "      <td>Unskilled &amp; Non Resident</td>\n",
       "      <td>own</td>\n",
       "      <td>6</td>\n",
       "    </tr>\n",
       "    <tr>\n",
       "      <th>2</th>\n",
       "      <td>female</td>\n",
       "      <td>Unskilled &amp; Non Resident</td>\n",
       "      <td>rent</td>\n",
       "      <td>5</td>\n",
       "    </tr>\n",
       "    <tr>\n",
       "      <th>3</th>\n",
       "      <td>female</td>\n",
       "      <td>Unskilled &amp; Resident</td>\n",
       "      <td>free</td>\n",
       "      <td>4</td>\n",
       "    </tr>\n",
       "    <tr>\n",
       "      <th>4</th>\n",
       "      <td>female</td>\n",
       "      <td>Unskilled &amp; Resident</td>\n",
       "      <td>own</td>\n",
       "      <td>42</td>\n",
       "    </tr>\n",
       "  </tbody>\n",
       "</table>\n",
       "</div>"
      ],
      "text/plain": [
       "      Sex                       Job Housing  count\n",
       "0  female  Unskilled & Non Resident    free      1\n",
       "1  female  Unskilled & Non Resident     own      6\n",
       "2  female  Unskilled & Non Resident    rent      5\n",
       "3  female      Unskilled & Resident    free      4\n",
       "4  female      Unskilled & Resident     own     42"
      ]
     },
     "execution_count": 31,
     "metadata": {},
     "output_type": "execute_result"
    }
   ],
   "source": [
    "df_r = df.groupby(['Sex','Job','Housing']).size().reset_index()\n",
    "df_r.columns = ['Sex','Job','Housing','count']\n",
    "df_r.Job=df_r.Job.map({0:'Unskilled & Non Resident',1:'Unskilled & Resident',2:'Skilled',3:'Highly Skilled'})\n",
    "df_r.head()"
   ]
  },
  {
   "cell_type": "code",
   "execution_count": 32,
   "metadata": {},
   "outputs": [],
   "source": [
    "fsh = df_r[df_r['Sex']=='female']"
   ]
  },
  {
   "cell_type": "code",
   "execution_count": 33,
   "metadata": {},
   "outputs": [],
   "source": [
    "msh = df_r[df_r['Sex']=='male']"
   ]
  },
  {
   "cell_type": "code",
   "execution_count": 34,
   "metadata": {},
   "outputs": [
    {
     "data": {
      "application/vnd.plotly.v1+json": {
       "data": [
        {
         "name": "Free",
         "opacity": 0.8,
         "type": "bar",
         "x": [
          "Unskilled & Non Resident",
          "Unskilled & Resident",
          "Skilled",
          "Highly Skilled"
         ],
         "y": [
          1,
          4,
          6,
          8
         ]
        },
        {
         "name": "Rent",
         "opacity": 0.8,
         "type": "bar",
         "x": [
          "Unskilled & Non Resident",
          "Unskilled & Resident",
          "Skilled",
          "Highly Skilled"
         ],
         "y": [
          5,
          18,
          64,
          8
         ]
        },
        {
         "name": "own",
         "opacity": 0.8,
         "type": "bar",
         "x": [
          "Unskilled & Non Resident",
          "Unskilled & Resident",
          "Skilled",
          "Highly Skilled"
         ],
         "y": [
          6,
          42,
          127,
          21
         ]
        }
       ],
       "layout": {
        "title": "Female: Housing Distribution per Skillset",
        "xaxis": {
         "title": "Housing"
        },
        "yaxis": {
         "title": "Frequency"
        }
       }
      },
      "text/html": [
       "<div id=\"a1b6ecb8-433b-4ad3-9277-b86247119904\" style=\"height: 525px; width: 100%;\" class=\"plotly-graph-div\"></div><script type=\"text/javascript\">require([\"plotly\"], function(Plotly) { window.PLOTLYENV=window.PLOTLYENV || {};window.PLOTLYENV.BASE_URL=\"https://plot.ly\";Plotly.newPlot(\"a1b6ecb8-433b-4ad3-9277-b86247119904\", [{\"type\": \"bar\", \"x\": [\"Unskilled & Non Resident\", \"Unskilled & Resident\", \"Skilled\", \"Highly Skilled\"], \"y\": [1, 4, 6, 8], \"opacity\": 0.8, \"name\": \"Free\"}, {\"type\": \"bar\", \"x\": [\"Unskilled & Non Resident\", \"Unskilled & Resident\", \"Skilled\", \"Highly Skilled\"], \"y\": [5, 18, 64, 8], \"opacity\": 0.8, \"name\": \"Rent\"}, {\"type\": \"bar\", \"x\": [\"Unskilled & Non Resident\", \"Unskilled & Resident\", \"Skilled\", \"Highly Skilled\"], \"y\": [6, 42, 127, 21], \"opacity\": 0.8, \"name\": \"own\"}], {\"yaxis\": {\"title\": \"Frequency\"}, \"xaxis\": {\"title\": \"Housing\"}, \"title\": \"Female: Housing Distribution per Skillset\"}, {\"showLink\": true, \"linkText\": \"Export to plot.ly\"})});</script>"
      ],
      "text/vnd.plotly.v1+html": [
       "<div id=\"a1b6ecb8-433b-4ad3-9277-b86247119904\" style=\"height: 525px; width: 100%;\" class=\"plotly-graph-div\"></div><script type=\"text/javascript\">require([\"plotly\"], function(Plotly) { window.PLOTLYENV=window.PLOTLYENV || {};window.PLOTLYENV.BASE_URL=\"https://plot.ly\";Plotly.newPlot(\"a1b6ecb8-433b-4ad3-9277-b86247119904\", [{\"type\": \"bar\", \"x\": [\"Unskilled & Non Resident\", \"Unskilled & Resident\", \"Skilled\", \"Highly Skilled\"], \"y\": [1, 4, 6, 8], \"opacity\": 0.8, \"name\": \"Free\"}, {\"type\": \"bar\", \"x\": [\"Unskilled & Non Resident\", \"Unskilled & Resident\", \"Skilled\", \"Highly Skilled\"], \"y\": [5, 18, 64, 8], \"opacity\": 0.8, \"name\": \"Rent\"}, {\"type\": \"bar\", \"x\": [\"Unskilled & Non Resident\", \"Unskilled & Resident\", \"Skilled\", \"Highly Skilled\"], \"y\": [6, 42, 127, 21], \"opacity\": 0.8, \"name\": \"own\"}], {\"yaxis\": {\"title\": \"Frequency\"}, \"xaxis\": {\"title\": \"Housing\"}, \"title\": \"Female: Housing Distribution per Skillset\"}, {\"showLink\": true, \"linkText\": \"Export to plot.ly\"})});</script>"
      ]
     },
     "metadata": {},
     "output_type": "display_data"
    }
   ],
   "source": [
    "trace1 = go.Bar(\n",
    "    x=fsh[fsh['Housing']=='free']['Job'].values,\n",
    "    y= fsh[fsh['Housing']=='free']['count'].values,\n",
    "    opacity=0.8,\n",
    "    name = 'Free'\n",
    ")\n",
    "trace2 = go.Bar(\n",
    "    x=fsh[fsh['Housing']=='rent']['Job'].values,\n",
    "    y= fsh[fsh['Housing']=='rent']['count'].values, \n",
    "    opacity=0.8,\n",
    "    name = 'Rent'\n",
    ")\n",
    "trace3 = go.Bar(\n",
    "    x=fsh[fsh['Housing']=='own']['Job'].values,\n",
    "    y= fsh[fsh['Housing']=='own']['count'].values, \n",
    "    opacity=0.8,\n",
    "    name = 'own'\n",
    ")\n",
    "data = [trace1, trace2,trace3]\n",
    "\n",
    "layout = go.Layout (\n",
    "    yaxis = dict(\n",
    "    title = 'Frequency'),\n",
    "    \n",
    "    xaxis = dict (\n",
    "    title = 'Housing'),\n",
    "    \n",
    "    title = 'Female: Housing Distribution per Skillset'\n",
    ")\n",
    "fig = go.Figure (data=data, layout = layout)\n",
    "py.iplot(fig)"
   ]
  },
  {
   "cell_type": "code",
   "execution_count": 35,
   "metadata": {
    "code_folding": [
     0
    ]
   },
   "outputs": [
    {
     "data": {
      "application/vnd.plotly.v1+json": {
       "data": [
        {
         "name": "Free",
         "opacity": 0.8,
         "type": "bar",
         "x": [
          "Unskilled & Non Resident",
          "Unskilled & Resident",
          "Skilled",
          "Highly Skilled"
         ],
         "y": [
          3,
          4,
          57,
          25
         ]
        },
        {
         "name": "Rent",
         "opacity": 0.8,
         "type": "bar",
         "x": [
          "Unskilled & Resident",
          "Skilled",
          "Highly Skilled"
         ],
         "y": [
          20,
          51,
          13
         ]
        },
        {
         "name": "own",
         "opacity": 0.8,
         "type": "bar",
         "x": [
          "Unskilled & Non Resident",
          "Unskilled & Resident",
          "Skilled",
          "Highly Skilled"
         ],
         "y": [
          7,
          112,
          325,
          73
         ]
        }
       ],
       "layout": {
        "title": "Male: Housing Distribution per Skillset",
        "xaxis": {
         "title": "Housing"
        },
        "yaxis": {
         "title": "Frequency"
        }
       }
      },
      "text/html": [
       "<div id=\"db9ad426-1ed5-4a1a-af6d-467ccdb12f8a\" style=\"height: 525px; width: 100%;\" class=\"plotly-graph-div\"></div><script type=\"text/javascript\">require([\"plotly\"], function(Plotly) { window.PLOTLYENV=window.PLOTLYENV || {};window.PLOTLYENV.BASE_URL=\"https://plot.ly\";Plotly.newPlot(\"db9ad426-1ed5-4a1a-af6d-467ccdb12f8a\", [{\"type\": \"bar\", \"x\": [\"Unskilled & Non Resident\", \"Unskilled & Resident\", \"Skilled\", \"Highly Skilled\"], \"y\": [3, 4, 57, 25], \"opacity\": 0.8, \"name\": \"Free\"}, {\"type\": \"bar\", \"x\": [\"Unskilled & Resident\", \"Skilled\", \"Highly Skilled\"], \"y\": [20, 51, 13], \"opacity\": 0.8, \"name\": \"Rent\"}, {\"type\": \"bar\", \"x\": [\"Unskilled & Non Resident\", \"Unskilled & Resident\", \"Skilled\", \"Highly Skilled\"], \"y\": [7, 112, 325, 73], \"opacity\": 0.8, \"name\": \"own\"}], {\"yaxis\": {\"title\": \"Frequency\"}, \"xaxis\": {\"title\": \"Housing\"}, \"title\": \"Male: Housing Distribution per Skillset\"}, {\"showLink\": true, \"linkText\": \"Export to plot.ly\"})});</script>"
      ],
      "text/vnd.plotly.v1+html": [
       "<div id=\"db9ad426-1ed5-4a1a-af6d-467ccdb12f8a\" style=\"height: 525px; width: 100%;\" class=\"plotly-graph-div\"></div><script type=\"text/javascript\">require([\"plotly\"], function(Plotly) { window.PLOTLYENV=window.PLOTLYENV || {};window.PLOTLYENV.BASE_URL=\"https://plot.ly\";Plotly.newPlot(\"db9ad426-1ed5-4a1a-af6d-467ccdb12f8a\", [{\"type\": \"bar\", \"x\": [\"Unskilled & Non Resident\", \"Unskilled & Resident\", \"Skilled\", \"Highly Skilled\"], \"y\": [3, 4, 57, 25], \"opacity\": 0.8, \"name\": \"Free\"}, {\"type\": \"bar\", \"x\": [\"Unskilled & Resident\", \"Skilled\", \"Highly Skilled\"], \"y\": [20, 51, 13], \"opacity\": 0.8, \"name\": \"Rent\"}, {\"type\": \"bar\", \"x\": [\"Unskilled & Non Resident\", \"Unskilled & Resident\", \"Skilled\", \"Highly Skilled\"], \"y\": [7, 112, 325, 73], \"opacity\": 0.8, \"name\": \"own\"}], {\"yaxis\": {\"title\": \"Frequency\"}, \"xaxis\": {\"title\": \"Housing\"}, \"title\": \"Male: Housing Distribution per Skillset\"}, {\"showLink\": true, \"linkText\": \"Export to plot.ly\"})});</script>"
      ]
     },
     "metadata": {},
     "output_type": "display_data"
    }
   ],
   "source": [
    "trace1 = go.Bar(\n",
    "    x=msh[msh['Housing']=='free']['Job'].values,\n",
    "    y= msh[msh['Housing']=='free']['count'].values,\n",
    "    opacity=0.8,\n",
    "    name = 'Free'\n",
    ")\n",
    "trace2 = go.Bar(\n",
    "    x=msh[msh['Housing']=='rent']['Job'].values,\n",
    "    y= msh[msh['Housing']=='rent']['count'].values, \n",
    "    opacity=0.8,\n",
    "    name = 'Rent'\n",
    ")\n",
    "trace3 = go.Bar(\n",
    "    x=msh[msh['Housing']=='own']['Job'].values,\n",
    "    y= msh[msh['Housing']=='own']['count'].values, \n",
    "    opacity=0.8,\n",
    "    name = 'own'\n",
    ")\n",
    "data = [trace1, trace2,trace3]\n",
    "\n",
    "layout = go.Layout (\n",
    "    yaxis = dict(\n",
    "    title = 'Frequency'),\n",
    "    \n",
    "    xaxis = dict (\n",
    "    title = 'Housing'),\n",
    "    \n",
    "    title = 'Male: Housing Distribution per Skillset'\n",
    ")\n",
    "fig = go.Figure (data=data, layout = layout)\n",
    "py.iplot(fig)"
   ]
  },
  {
   "cell_type": "code",
   "execution_count": null,
   "metadata": {},
   "outputs": [],
   "source": []
  }
 ],
 "metadata": {
  "hide_input": false,
  "kernelspec": {
   "display_name": "Python 3",
   "language": "python",
   "name": "python3"
  },
  "language_info": {
   "codemirror_mode": {
    "name": "ipython",
    "version": 3
   },
   "file_extension": ".py",
   "mimetype": "text/x-python",
   "name": "python",
   "nbconvert_exporter": "python",
   "pygments_lexer": "ipython3",
   "version": "3.6.4"
  },
  "toc": {
   "base_numbering": 1,
   "nav_menu": {},
   "number_sections": true,
   "sideBar": true,
   "skip_h1_title": false,
   "title_cell": "Table of Contents",
   "title_sidebar": "Contents",
   "toc_cell": false,
   "toc_position": {},
   "toc_section_display": true,
   "toc_window_display": false
  },
  "varInspector": {
   "cols": {
    "lenName": 16,
    "lenType": 16,
    "lenVar": 40
   },
   "kernels_config": {
    "python": {
     "delete_cmd_postfix": "",
     "delete_cmd_prefix": "del ",
     "library": "var_list.py",
     "varRefreshCmd": "print(var_dic_list())"
    },
    "r": {
     "delete_cmd_postfix": ") ",
     "delete_cmd_prefix": "rm(",
     "library": "var_list.r",
     "varRefreshCmd": "cat(var_dic_list()) "
    }
   },
   "types_to_exclude": [
    "module",
    "function",
    "builtin_function_or_method",
    "instance",
    "_Feature"
   ],
   "window_display": false
  }
 },
 "nbformat": 4,
 "nbformat_minor": 2
}
