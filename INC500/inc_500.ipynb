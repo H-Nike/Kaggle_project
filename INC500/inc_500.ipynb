{
 "cells": [
  {
   "cell_type": "code",
   "execution_count": 41,
   "metadata": {},
   "outputs": [],
   "source": [
    "import pandas as pd\n",
    "import matplotlib.pyplot as plt\n",
    "import numpy as np\n",
    "import seaborn as sns\n",
    "%matplotlib inline"
   ]
  },
  {
   "cell_type": "code",
   "execution_count": 42,
   "metadata": {},
   "outputs": [],
   "source": [
    "df = pd.read_csv('INC500_EU_Summary.csv')"
   ]
  },
  {
   "cell_type": "markdown",
   "metadata": {},
   "source": [
    "#### Remove the empty Space before a column name"
   ]
  },
  {
   "cell_type": "code",
   "execution_count": 43,
   "metadata": {},
   "outputs": [],
   "source": [
    "df.columns = df.columns.str.replace(' ','')"
   ]
  },
  {
   "cell_type": "code",
   "execution_count": 44,
   "metadata": {},
   "outputs": [
    {
     "data": {
      "text/plain": [
       "Index(['url', 'rank', 'city', 'growth', 'company', 'country', 'revenue',\n",
       "       'industry', 'yrs_on_list'],\n",
       "      dtype='object')"
      ]
     },
     "execution_count": 44,
     "metadata": {},
     "output_type": "execute_result"
    }
   ],
   "source": [
    "df.columns"
   ]
  },
  {
   "cell_type": "code",
   "execution_count": 45,
   "metadata": {},
   "outputs": [],
   "source": [
    "df.drop(['url','rank'],axis=1, inplace = True)"
   ]
  },
  {
   "cell_type": "code",
   "execution_count": 46,
   "metadata": {
    "scrolled": true
   },
   "outputs": [
    {
     "data": {
      "text/html": [
       "<div>\n",
       "<style scoped>\n",
       "    .dataframe tbody tr th:only-of-type {\n",
       "        vertical-align: middle;\n",
       "    }\n",
       "\n",
       "    .dataframe tbody tr th {\n",
       "        vertical-align: top;\n",
       "    }\n",
       "\n",
       "    .dataframe thead th {\n",
       "        text-align: right;\n",
       "    }\n",
       "</style>\n",
       "<table border=\"1\" class=\"dataframe\">\n",
       "  <thead>\n",
       "    <tr style=\"text-align: right;\">\n",
       "      <th></th>\n",
       "      <th>city</th>\n",
       "      <th>growth</th>\n",
       "      <th>company</th>\n",
       "      <th>country</th>\n",
       "      <th>revenue</th>\n",
       "      <th>industry</th>\n",
       "      <th>yrs_on_list</th>\n",
       "    </tr>\n",
       "  </thead>\n",
       "  <tbody>\n",
       "    <tr>\n",
       "      <th>0</th>\n",
       "      <td>London</td>\n",
       "      <td>14367.7003</td>\n",
       "      <td>Sumup Payments Limited</td>\n",
       "      <td>United Kingdom</td>\n",
       "      <td>55990000</td>\n",
       "      <td>IT Services</td>\n",
       "      <td>1</td>\n",
       "    </tr>\n",
       "    <tr>\n",
       "      <th>1</th>\n",
       "      <td>Helsinki</td>\n",
       "      <td>13600.7855</td>\n",
       "      <td>Restel Fast Food Oy</td>\n",
       "      <td>Finland</td>\n",
       "      <td>30278736</td>\n",
       "      <td>Travel &amp; Hospitality</td>\n",
       "      <td>1</td>\n",
       "    </tr>\n",
       "  </tbody>\n",
       "</table>\n",
       "</div>"
      ],
      "text/plain": [
       "       city      growth                 company         country   revenue  \\\n",
       "0    London  14367.7003  Sumup Payments Limited  United Kingdom  55990000   \n",
       "1  Helsinki  13600.7855     Restel Fast Food Oy         Finland  30278736   \n",
       "\n",
       "               industry  yrs_on_list  \n",
       "0           IT Services            1  \n",
       "1  Travel & Hospitality            1  "
      ]
     },
     "execution_count": 46,
     "metadata": {},
     "output_type": "execute_result"
    }
   ],
   "source": [
    "df.head(2)"
   ]
  },
  {
   "cell_type": "markdown",
   "metadata": {},
   "source": [
    "#### Replacing Long name and wrong typing name"
   ]
  },
  {
   "cell_type": "code",
   "execution_count": 47,
   "metadata": {},
   "outputs": [],
   "source": [
    "df.country = df.country.replace({'Belgum':'Belgium','Russian Federation':'Russia',\n",
    "                                 'The former Yugoslav Republic of Macedonia':'Macedonia','United Kingdom':'UK'})"
   ]
  },
  {
   "cell_type": "code",
   "execution_count": 48,
   "metadata": {
    "scrolled": true
   },
   "outputs": [
    {
     "data": {
      "text/html": [
       "<div>\n",
       "<style scoped>\n",
       "    .dataframe tbody tr th:only-of-type {\n",
       "        vertical-align: middle;\n",
       "    }\n",
       "\n",
       "    .dataframe tbody tr th {\n",
       "        vertical-align: top;\n",
       "    }\n",
       "\n",
       "    .dataframe thead th {\n",
       "        text-align: right;\n",
       "    }\n",
       "</style>\n",
       "<table border=\"1\" class=\"dataframe\">\n",
       "  <thead>\n",
       "    <tr style=\"text-align: right;\">\n",
       "      <th></th>\n",
       "      <th>city</th>\n",
       "      <th>growth</th>\n",
       "      <th>company</th>\n",
       "      <th>country</th>\n",
       "      <th>revenue</th>\n",
       "      <th>industry</th>\n",
       "      <th>yrs_on_list</th>\n",
       "    </tr>\n",
       "  </thead>\n",
       "  <tbody>\n",
       "    <tr>\n",
       "      <th>0</th>\n",
       "      <td>London</td>\n",
       "      <td>14367.7003</td>\n",
       "      <td>Sumup Payments Limited</td>\n",
       "      <td>UK</td>\n",
       "      <td>55990000</td>\n",
       "      <td>IT Services</td>\n",
       "      <td>1</td>\n",
       "    </tr>\n",
       "    <tr>\n",
       "      <th>1</th>\n",
       "      <td>Helsinki</td>\n",
       "      <td>13600.7855</td>\n",
       "      <td>Restel Fast Food Oy</td>\n",
       "      <td>Finland</td>\n",
       "      <td>30278736</td>\n",
       "      <td>Travel &amp; Hospitality</td>\n",
       "      <td>1</td>\n",
       "    </tr>\n",
       "  </tbody>\n",
       "</table>\n",
       "</div>"
      ],
      "text/plain": [
       "       city      growth                 company  country   revenue  \\\n",
       "0    London  14367.7003  Sumup Payments Limited       UK  55990000   \n",
       "1  Helsinki  13600.7855     Restel Fast Food Oy  Finland  30278736   \n",
       "\n",
       "               industry  yrs_on_list  \n",
       "0           IT Services            1  \n",
       "1  Travel & Hospitality            1  "
      ]
     },
     "execution_count": 48,
     "metadata": {},
     "output_type": "execute_result"
    }
   ],
   "source": [
    "df.head(2)"
   ]
  },
  {
   "cell_type": "markdown",
   "metadata": {},
   "source": [
    "### What industry has the greater revenue?"
   ]
  },
  {
   "cell_type": "code",
   "execution_count": 49,
   "metadata": {},
   "outputs": [],
   "source": [
    "a = 'city'\n",
    "b = 'growth'\n",
    "ind_rev = df.groupby(a)[b].sum().sort_values(ascending = True).tail(10) \n",
    "# use tail cuz I want the plot to be from highest to lowest"
   ]
  },
  {
   "cell_type": "code",
   "execution_count": 148,
   "metadata": {},
   "outputs": [
    {
     "data": {
      "image/png": "[encoded data removed]",
      "text/plain": [
       "<Figure size 720x504 with 1 Axes>"
      ]
     },
     "metadata": {},
     "output_type": "display_data"
    }
   ],
   "source": [
    "fig,ax = plt.subplots(figsize = (10,7))\n",
    "ax.barh(ind_rev.index, ind_rev.values, color = 'gray')\n",
    "ax = ind_rev.plot(kind='barh', color = 'gray',fontsize=13) this is an alternative way to plot\n",
    "for key,spine in ax.spines.items():\n",
    "    spine.set_visible(False)\n",
    "ax.set_title('Top 10 {} With the Highest {} in Europe'.format(a,b),fontdict={'fontsize': 15,\n",
    "                    'fontweight' :30},color='r')\n",
    "ax.set_ylabel('Industries',fontdict= {'fontsize': 15})\n",
    "ax.tick_params(bottom= False, top = False, left= True,right= False,length=6, width=2, colors='black',\n",
    "               labelsize='medium') # this will remove all the tick\n",
    "# Annotation\n",
    "for i in ax.patches:\n",
    "    ax.text(i.get_width()+ 0.2e4,i.get_y()+0.4, \n",
    "             str(round((i.get_width()/1e3),2))+ ' K', fontsize=10,verticalalignment='center',color = 'black')\n",
    "ax.set_xticklabels(['0','20k','40k','60k','80k','100k','120k','140k'],fontdict = {'fontsize':10, 'weight':'medium',\n",
    "                                                                                 'color':'black'} )\n",
    "plt.show()"
   ]
  },
  {
   "cell_type": "code",
   "execution_count": 72,
   "metadata": {},
   "outputs": [],
   "source": [
    "a = 'city'\n",
    "b = 'growth'\n",
    "c = 'Italy'\n",
    "d  = 'revenue'"
   ]
  },
  {
   "cell_type": "code",
   "execution_count": 86,
   "metadata": {},
   "outputs": [],
   "source": [
    "new_df = df[df['country']== c].groupby(a)[b].sum().sort_values(ascending = True).tail(10)\n",
    "new_df2 = df[df['country']== c].groupby(a)[d].sum().sort_values(ascending = True).tail(10)"
   ]
  },
  {
   "cell_type": "code",
   "execution_count": 87,
   "metadata": {},
   "outputs": [
    {
     "data": {
      "image/png": "[encoded data removed]",
      "text/plain": [
       "<Figure size 1440x360 with 2 Axes>"
      ]
     },
     "metadata": {},
     "output_type": "display_data"
    }
   ],
   "source": [
    "fig,(ax2,ax1) = plt.subplots(1,2,figsize = (20,5))\n",
    "ax1.barh(new_df.index, new_df.values, color = 'dodgerblue')\n",
    "#ax = ind_rev.plot(kind='barh', color = 'gray',fontsize=13)\n",
    "for key,spine in ax1.spines.items():\n",
    "    spine.set_visible(False)\n",
    "ax1.set_title('Top 10 {} With the Highest {} in {}'.format(a,b,c),fontdict={'fontsize': 15,\n",
    "                    'fontweight' :20,'verticalalignment': 'baseline'})\n",
    "#ax1.set_ylabel('Industries',fontdict= {'fontsize': 15})\n",
    "ax1.tick_params(bottom= False, top = False, left= True,right= False) # this will remove all the tick\n",
    "# Annotation\n",
    "for i in ax1.patches:\n",
    "    ax1.text(i.get_width()+ 0.2e3,i.get_y()+0.5, \n",
    "             str(round((i.get_width()/1e3),2))+ ' K', fontsize=10,verticalalignment='center',color = 'black')\n",
    "\n",
    "ax2.barh(new_df2.index, new_df2.values, color = 'gray')\n",
    "#ax = ind_rev.plot(kind='barh', color = 'gray',fontsize=13)\n",
    "for key,spine in ax2.spines.items():\n",
    "    spine.set_visible(False)\n",
    "ax2.set_title('Top 10 {} Highest {} in {}'.format(a,d,c),fontdict={'fontsize': 15,\n",
    "                    'fontweight' :20,'verticalalignment': 'baseline'})\n",
    "ax2.tick_params(bottom= False, top = False, left= True,right= False) # this will remove all the tick\n",
    "# Annotation\n",
    "for i in ax2.patches:\n",
    "    ax2.text(i.get_width()+ 0.2e8,i.get_y()+0.5, \n",
    "             str(round((i.get_width()/1e9),2))+ ' B', fontsize=10,verticalalignment='center',color = 'black')\n",
    "plt.show()"
   ]
  },
  {
   "cell_type": "markdown",
   "metadata": {},
   "source": [
    "### For each Country, What is the number of cities,max,min and average growth?"
   ]
  },
  {
   "cell_type": "code",
   "execution_count": 120,
   "metadata": {
    "scrolled": true
   },
   "outputs": [
    {
     "data": {
      "text/html": [
       "<div>\n",
       "<style scoped>\n",
       "    .dataframe tbody tr th:only-of-type {\n",
       "        vertical-align: middle;\n",
       "    }\n",
       "\n",
       "    .dataframe tbody tr th {\n",
       "        vertical-align: top;\n",
       "    }\n",
       "\n",
       "    .dataframe thead th {\n",
       "        text-align: right;\n",
       "    }\n",
       "</style>\n",
       "<table border=\"1\" class=\"dataframe\">\n",
       "  <thead>\n",
       "    <tr style=\"text-align: right;\">\n",
       "      <th></th>\n",
       "      <th>count</th>\n",
       "      <th>min</th>\n",
       "      <th>mean</th>\n",
       "      <th>max</th>\n",
       "    </tr>\n",
       "    <tr>\n",
       "      <th>country</th>\n",
       "      <th></th>\n",
       "      <th></th>\n",
       "      <th></th>\n",
       "      <th></th>\n",
       "    </tr>\n",
       "  </thead>\n",
       "  <tbody>\n",
       "    <tr>\n",
       "      <th>Austria</th>\n",
       "      <td>26</td>\n",
       "      <td>59.51</td>\n",
       "      <td>317.25</td>\n",
       "      <td>2570.09</td>\n",
       "    </tr>\n",
       "    <tr>\n",
       "      <th>Belgium</th>\n",
       "      <td>131</td>\n",
       "      <td>53.82</td>\n",
       "      <td>608.75</td>\n",
       "      <td>3010.69</td>\n",
       "    </tr>\n",
       "    <tr>\n",
       "      <th>Bosnia and Herzegovina</th>\n",
       "      <td>21</td>\n",
       "      <td>76.70</td>\n",
       "      <td>308.96</td>\n",
       "      <td>1123.26</td>\n",
       "    </tr>\n",
       "    <tr>\n",
       "      <th>Bulgaria</th>\n",
       "      <td>85</td>\n",
       "      <td>61.45</td>\n",
       "      <td>344.15</td>\n",
       "      <td>2191.10</td>\n",
       "    </tr>\n",
       "    <tr>\n",
       "      <th>Canary Islands (Spain)</th>\n",
       "      <td>8</td>\n",
       "      <td>182.80</td>\n",
       "      <td>674.92</td>\n",
       "      <td>1930.31</td>\n",
       "    </tr>\n",
       "  </tbody>\n",
       "</table>\n",
       "</div>"
      ],
      "text/plain": [
       "                        count     min    mean      max\n",
       "country                                               \n",
       "Austria                    26   59.51  317.25  2570.09\n",
       "Belgium                   131   53.82  608.75  3010.69\n",
       "Bosnia and Herzegovina     21   76.70  308.96  1123.26\n",
       "Bulgaria                   85   61.45  344.15  2191.10\n",
       "Canary Islands (Spain)      8  182.80  674.92  1930.31"
      ]
     },
     "execution_count": 120,
     "metadata": {},
     "output_type": "execute_result"
    }
   ],
   "source": [
    "round(df.groupby('country')['growth'].agg(['count','min','mean','max']),2).head()"
   ]
  },
  {
   "cell_type": "markdown",
   "metadata": {},
   "source": [
    "The result above may be a little confusing because some max growth will be equal to a city sum of growth. this will happen if the city has only one company operating it it. but if a city has more companies with a some of it growth higher than the max growth of the all every city, theefore the max growth and Sum of grwth per city will be different"
   ]
  },
  {
   "cell_type": "code",
   "execution_count": 119,
   "metadata": {
    "scrolled": true
   },
   "outputs": [
    {
     "name": "stdout",
     "output_type": "stream",
     "text": [
      "city\n",
      "Milan    34774.4002\n",
      "Name: growth, dtype: float64\n"
     ]
    }
   ],
   "source": [
    "# this will give the max growth in italy \n",
    "max_growth = df[(df.country=='Italy') & (df.growth > 8500)]\n",
    "# but the city with the highest growth is Milan\n",
    "city_max_growth = df[df['country']== 'Italy'].groupby('city')['growth'].sum().sort_values(ascending=False)[:1]\n",
    "max_growth\n",
    "city_max_growth"
   ]
  },
  {
   "cell_type": "code",
   "execution_count": 149,
   "metadata": {},
   "outputs": [
    {
     "data": {
      "text/html": [
       "<div>\n",
       "<style scoped>\n",
       "    .dataframe tbody tr th:only-of-type {\n",
       "        vertical-align: middle;\n",
       "    }\n",
       "\n",
       "    .dataframe tbody tr th {\n",
       "        vertical-align: top;\n",
       "    }\n",
       "\n",
       "    .dataframe thead th {\n",
       "        text-align: right;\n",
       "    }\n",
       "</style>\n",
       "<table border=\"1\" class=\"dataframe\">\n",
       "  <thead>\n",
       "    <tr style=\"text-align: right;\">\n",
       "      <th></th>\n",
       "      <th>city</th>\n",
       "      <th>growth</th>\n",
       "      <th>company</th>\n",
       "      <th>country</th>\n",
       "      <th>revenue</th>\n",
       "      <th>industry</th>\n",
       "      <th>yrs_on_list</th>\n",
       "    </tr>\n",
       "  </thead>\n",
       "  <tbody>\n",
       "    <tr>\n",
       "      <th>0</th>\n",
       "      <td>London</td>\n",
       "      <td>14367.7003</td>\n",
       "      <td>Sumup Payments Limited</td>\n",
       "      <td>UK</td>\n",
       "      <td>55990000</td>\n",
       "      <td>IT Services</td>\n",
       "      <td>1</td>\n",
       "    </tr>\n",
       "    <tr>\n",
       "      <th>1</th>\n",
       "      <td>Helsinki</td>\n",
       "      <td>13600.7855</td>\n",
       "      <td>Restel Fast Food Oy</td>\n",
       "      <td>Finland</td>\n",
       "      <td>30278736</td>\n",
       "      <td>Travel &amp; Hospitality</td>\n",
       "      <td>1</td>\n",
       "    </tr>\n",
       "    <tr>\n",
       "      <th>2</th>\n",
       "      <td>Nefteyugansk</td>\n",
       "      <td>11977.8447</td>\n",
       "      <td>New Teck Well Service Limited Liability Company</td>\n",
       "      <td>Russia</td>\n",
       "      <td>48502088</td>\n",
       "      <td>Energy</td>\n",
       "      <td>1</td>\n",
       "    </tr>\n",
       "    <tr>\n",
       "      <th>3</th>\n",
       "      <td>Majadahonda</td>\n",
       "      <td>11309.1782</td>\n",
       "      <td>Tamitrip SL</td>\n",
       "      <td>Spain</td>\n",
       "      <td>31651228</td>\n",
       "      <td>Travel &amp; Hospitality</td>\n",
       "      <td>1</td>\n",
       "    </tr>\n",
       "    <tr>\n",
       "      <th>4</th>\n",
       "      <td>Madrid</td>\n",
       "      <td>9119.3100</td>\n",
       "      <td>MaxiMobility</td>\n",
       "      <td>Spain</td>\n",
       "      <td>64628654</td>\n",
       "      <td>Logistics &amp; Transportation</td>\n",
       "      <td>1</td>\n",
       "    </tr>\n",
       "  </tbody>\n",
       "</table>\n",
       "</div>"
      ],
      "text/plain": [
       "           city      growth                                          company  \\\n",
       "0        London  14367.7003                           Sumup Payments Limited   \n",
       "1      Helsinki  13600.7855                              Restel Fast Food Oy   \n",
       "2  Nefteyugansk  11977.8447  New Teck Well Service Limited Liability Company   \n",
       "3   Majadahonda  11309.1782                                      Tamitrip SL   \n",
       "4        Madrid   9119.3100                                     MaxiMobility   \n",
       "\n",
       "   country   revenue                    industry  yrs_on_list  \n",
       "0       UK  55990000                 IT Services            1  \n",
       "1  Finland  30278736        Travel & Hospitality            1  \n",
       "2   Russia  48502088                      Energy            1  \n",
       "3    Spain  31651228        Travel & Hospitality            1  \n",
       "4    Spain  64628654  Logistics & Transportation            1  "
      ]
     },
     "execution_count": 149,
     "metadata": {},
     "output_type": "execute_result"
    }
   ],
   "source": [
    "df.head()"
   ]
  },
  {
   "cell_type": "code",
   "execution_count": 162,
   "metadata": {},
   "outputs": [
    {
     "data": {
      "text/plain": [
       "pandas.core.series.Series"
      ]
     },
     "execution_count": 162,
     "metadata": {},
     "output_type": "execute_result"
    }
   ],
   "source": [
    "type(ind_rev)"
   ]
  },
  {
   "cell_type": "code",
   "execution_count": 165,
   "metadata": {},
   "outputs": [],
   "source": [
    "ind_1 = pd.DataFrame({'City':ind_rev.index,'Growth':ind_rev.values})"
   ]
  },
  {
   "cell_type": "code",
   "execution_count": 166,
   "metadata": {},
   "outputs": [],
   "source": [
    "ind_rev_2 = df.groupby(a)[d].sum().sort_values(ascending = True).tail(10)"
   ]
  },
  {
   "cell_type": "code",
   "execution_count": 167,
   "metadata": {},
   "outputs": [],
   "source": [
    "ind_2 = pd.DataFrame({'City':ind_rev_2.index,'Revenue':ind_rev_2.values})"
   ]
  },
  {
   "cell_type": "code",
   "execution_count": 168,
   "metadata": {},
   "outputs": [
    {
     "data": {
      "text/html": [
       "<div>\n",
       "<style scoped>\n",
       "    .dataframe tbody tr th:only-of-type {\n",
       "        vertical-align: middle;\n",
       "    }\n",
       "\n",
       "    .dataframe tbody tr th {\n",
       "        vertical-align: top;\n",
       "    }\n",
       "\n",
       "    .dataframe thead th {\n",
       "        text-align: right;\n",
       "    }\n",
       "</style>\n",
       "<table border=\"1\" class=\"dataframe\">\n",
       "  <thead>\n",
       "    <tr style=\"text-align: right;\">\n",
       "      <th></th>\n",
       "      <th>City</th>\n",
       "      <th>Revenue</th>\n",
       "    </tr>\n",
       "  </thead>\n",
       "  <tbody>\n",
       "    <tr>\n",
       "      <th>0</th>\n",
       "      <td>Blackburn</td>\n",
       "      <td>2708934937</td>\n",
       "    </tr>\n",
       "    <tr>\n",
       "      <th>1</th>\n",
       "      <td>Bucharest</td>\n",
       "      <td>2787525389</td>\n",
       "    </tr>\n",
       "    <tr>\n",
       "      <th>2</th>\n",
       "      <td>Paris</td>\n",
       "      <td>2860915197</td>\n",
       "    </tr>\n",
       "    <tr>\n",
       "      <th>3</th>\n",
       "      <td>Malmesbury</td>\n",
       "      <td>2873350610</td>\n",
       "    </tr>\n",
       "    <tr>\n",
       "      <th>4</th>\n",
       "      <td>Cambridge</td>\n",
       "      <td>2890571945</td>\n",
       "    </tr>\n",
       "    <tr>\n",
       "      <th>5</th>\n",
       "      <td>Stockholm</td>\n",
       "      <td>3065264035</td>\n",
       "    </tr>\n",
       "    <tr>\n",
       "      <th>6</th>\n",
       "      <td>Milan</td>\n",
       "      <td>3090915356</td>\n",
       "    </tr>\n",
       "    <tr>\n",
       "      <th>7</th>\n",
       "      <td>Essen</td>\n",
       "      <td>5622211323</td>\n",
       "    </tr>\n",
       "    <tr>\n",
       "      <th>8</th>\n",
       "      <td>Moscow</td>\n",
       "      <td>7959269689</td>\n",
       "    </tr>\n",
       "    <tr>\n",
       "      <th>9</th>\n",
       "      <td>London</td>\n",
       "      <td>9907186297</td>\n",
       "    </tr>\n",
       "  </tbody>\n",
       "</table>\n",
       "</div>"
      ],
      "text/plain": [
       "         City     Revenue\n",
       "0   Blackburn  2708934937\n",
       "1   Bucharest  2787525389\n",
       "2       Paris  2860915197\n",
       "3  Malmesbury  2873350610\n",
       "4   Cambridge  2890571945\n",
       "5   Stockholm  3065264035\n",
       "6       Milan  3090915356\n",
       "7       Essen  5622211323\n",
       "8      Moscow  7959269689\n",
       "9      London  9907186297"
      ]
     },
     "execution_count": 168,
     "metadata": {},
     "output_type": "execute_result"
    }
   ],
   "source": [
    "ind_2"
   ]
  },
  {
   "cell_type": "code",
   "execution_count": 169,
   "metadata": {},
   "outputs": [
    {
     "data": {
      "text/html": [
       "<div>\n",
       "<style scoped>\n",
       "    .dataframe tbody tr th:only-of-type {\n",
       "        vertical-align: middle;\n",
       "    }\n",
       "\n",
       "    .dataframe tbody tr th {\n",
       "        vertical-align: top;\n",
       "    }\n",
       "\n",
       "    .dataframe thead th {\n",
       "        text-align: right;\n",
       "    }\n",
       "</style>\n",
       "<table border=\"1\" class=\"dataframe\">\n",
       "  <thead>\n",
       "    <tr style=\"text-align: right;\">\n",
       "      <th></th>\n",
       "      <th>City</th>\n",
       "      <th>Growth</th>\n",
       "    </tr>\n",
       "  </thead>\n",
       "  <tbody>\n",
       "    <tr>\n",
       "      <th>0</th>\n",
       "      <td>Milan</td>\n",
       "      <td>34774.4002</td>\n",
       "    </tr>\n",
       "    <tr>\n",
       "      <th>1</th>\n",
       "      <td>Helsinki</td>\n",
       "      <td>37300.7500</td>\n",
       "    </tr>\n",
       "    <tr>\n",
       "      <th>2</th>\n",
       "      <td>Barcelona</td>\n",
       "      <td>38010.2881</td>\n",
       "    </tr>\n",
       "    <tr>\n",
       "      <th>3</th>\n",
       "      <td>Bucharest</td>\n",
       "      <td>38370.7189</td>\n",
       "    </tr>\n",
       "    <tr>\n",
       "      <th>4</th>\n",
       "      <td>Madrid</td>\n",
       "      <td>40991.2326</td>\n",
       "    </tr>\n",
       "    <tr>\n",
       "      <th>5</th>\n",
       "      <td>Saint-Petersburg</td>\n",
       "      <td>45662.5320</td>\n",
       "    </tr>\n",
       "    <tr>\n",
       "      <th>6</th>\n",
       "      <td>Paris</td>\n",
       "      <td>46617.2350</td>\n",
       "    </tr>\n",
       "    <tr>\n",
       "      <th>7</th>\n",
       "      <td>Stockholm</td>\n",
       "      <td>78929.4956</td>\n",
       "    </tr>\n",
       "    <tr>\n",
       "      <th>8</th>\n",
       "      <td>London</td>\n",
       "      <td>111936.0765</td>\n",
       "    </tr>\n",
       "    <tr>\n",
       "      <th>9</th>\n",
       "      <td>Moscow</td>\n",
       "      <td>137224.4026</td>\n",
       "    </tr>\n",
       "  </tbody>\n",
       "</table>\n",
       "</div>"
      ],
      "text/plain": [
       "               City       Growth\n",
       "0             Milan   34774.4002\n",
       "1          Helsinki   37300.7500\n",
       "2         Barcelona   38010.2881\n",
       "3         Bucharest   38370.7189\n",
       "4            Madrid   40991.2326\n",
       "5  Saint-Petersburg   45662.5320\n",
       "6             Paris   46617.2350\n",
       "7         Stockholm   78929.4956\n",
       "8            London  111936.0765\n",
       "9            Moscow  137224.4026"
      ]
     },
     "execution_count": 169,
     "metadata": {},
     "output_type": "execute_result"
    }
   ],
   "source": [
    "ind_1"
   ]
  },
  {
   "cell_type": "code",
   "execution_count": 175,
   "metadata": {},
   "outputs": [
    {
     "data": {
      "text/html": [
       "<div>\n",
       "<style scoped>\n",
       "    .dataframe tbody tr th:only-of-type {\n",
       "        vertical-align: middle;\n",
       "    }\n",
       "\n",
       "    .dataframe tbody tr th {\n",
       "        vertical-align: top;\n",
       "    }\n",
       "\n",
       "    .dataframe thead th {\n",
       "        text-align: right;\n",
       "    }\n",
       "</style>\n",
       "<table border=\"1\" class=\"dataframe\">\n",
       "  <thead>\n",
       "    <tr style=\"text-align: right;\">\n",
       "      <th></th>\n",
       "      <th>City</th>\n",
       "      <th>Growth</th>\n",
       "      <th>Revenue</th>\n",
       "    </tr>\n",
       "  </thead>\n",
       "  <tbody>\n",
       "    <tr>\n",
       "      <th>0</th>\n",
       "      <td>Milan</td>\n",
       "      <td>34774.4002</td>\n",
       "      <td>3.090915e+09</td>\n",
       "    </tr>\n",
       "    <tr>\n",
       "      <th>1</th>\n",
       "      <td>Helsinki</td>\n",
       "      <td>37300.7500</td>\n",
       "      <td>NaN</td>\n",
       "    </tr>\n",
       "    <tr>\n",
       "      <th>2</th>\n",
       "      <td>Barcelona</td>\n",
       "      <td>38010.2881</td>\n",
       "      <td>NaN</td>\n",
       "    </tr>\n",
       "    <tr>\n",
       "      <th>3</th>\n",
       "      <td>Bucharest</td>\n",
       "      <td>38370.7189</td>\n",
       "      <td>2.787525e+09</td>\n",
       "    </tr>\n",
       "    <tr>\n",
       "      <th>4</th>\n",
       "      <td>Madrid</td>\n",
       "      <td>40991.2326</td>\n",
       "      <td>NaN</td>\n",
       "    </tr>\n",
       "    <tr>\n",
       "      <th>5</th>\n",
       "      <td>Saint-Petersburg</td>\n",
       "      <td>45662.5320</td>\n",
       "      <td>NaN</td>\n",
       "    </tr>\n",
       "    <tr>\n",
       "      <th>6</th>\n",
       "      <td>Paris</td>\n",
       "      <td>46617.2350</td>\n",
       "      <td>2.860915e+09</td>\n",
       "    </tr>\n",
       "    <tr>\n",
       "      <th>7</th>\n",
       "      <td>Stockholm</td>\n",
       "      <td>78929.4956</td>\n",
       "      <td>3.065264e+09</td>\n",
       "    </tr>\n",
       "    <tr>\n",
       "      <th>8</th>\n",
       "      <td>London</td>\n",
       "      <td>111936.0765</td>\n",
       "      <td>9.907186e+09</td>\n",
       "    </tr>\n",
       "    <tr>\n",
       "      <th>9</th>\n",
       "      <td>Moscow</td>\n",
       "      <td>137224.4026</td>\n",
       "      <td>7.959270e+09</td>\n",
       "    </tr>\n",
       "  </tbody>\n",
       "</table>\n",
       "</div>"
      ],
      "text/plain": [
       "               City       Growth       Revenue\n",
       "0             Milan   34774.4002  3.090915e+09\n",
       "1          Helsinki   37300.7500           NaN\n",
       "2         Barcelona   38010.2881           NaN\n",
       "3         Bucharest   38370.7189  2.787525e+09\n",
       "4            Madrid   40991.2326           NaN\n",
       "5  Saint-Petersburg   45662.5320           NaN\n",
       "6             Paris   46617.2350  2.860915e+09\n",
       "7         Stockholm   78929.4956  3.065264e+09\n",
       "8            London  111936.0765  9.907186e+09\n",
       "9            Moscow  137224.4026  7.959270e+09"
      ]
     },
     "execution_count": 175,
     "metadata": {},
     "output_type": "execute_result"
    }
   ],
   "source": [
    "pd.merge(ind_1,ind_2, how='left')#,left_index=false,right_index=True)"
   ]
  },
  {
   "cell_type": "code",
   "execution_count": 181,
   "metadata": {},
   "outputs": [],
   "source": [
    "t = list(range(1,5))"
   ]
  },
  {
   "cell_type": "code",
   "execution_count": 182,
   "metadata": {},
   "outputs": [
    {
     "data": {
      "text/plain": [
       "[1, 2, 3, 4]"
      ]
     },
     "execution_count": 182,
     "metadata": {},
     "output_type": "execute_result"
    }
   ],
   "source": [
    "t"
   ]
  },
  {
   "cell_type": "code",
   "execution_count": null,
   "metadata": {},
   "outputs": [],
   "source": []
  }
 ],
 "metadata": {
  "kernelspec": {
   "display_name": "Python 3",
   "language": "python",
   "name": "python3"
  },
  "language_info": {
   "codemirror_mode": {
    "name": "ipython",
    "version": 3
   },
   "file_extension": ".py",
   "mimetype": "text/x-python",
   "name": "python",
   "nbconvert_exporter": "python",
   "pygments_lexer": "ipython3",
   "version": "3.6.4"
  }
 },
 "nbformat": 4,
 "nbformat_minor": 2
}
